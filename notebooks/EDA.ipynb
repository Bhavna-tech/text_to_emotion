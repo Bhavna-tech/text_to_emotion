{
 "cells": [
  {
   "cell_type": "code",
   "execution_count": 10,
   "id": "6f447791",
   "metadata": {},
   "outputs": [],
   "source": [
    "import sys, os\n",
    "from pathlib import Path\n",
    "import pandas as pd\n",
    "\n",
    "root = Path().resolve().parent          \n",
    "os.chdir(root)                          \n",
    "\n",
    "sys.path.append(str(root / \"src\"))\n",
    "\n",
    "from src.data_utils import load_emotion_txt, normalise\n",
    "from src.model      import EmotionDetector\n",
    "\n"
   ]
  },
  {
   "cell_type": "code",
   "execution_count": 11,
   "id": "1c6908f1",
   "metadata": {},
   "outputs": [],
   "source": [
    "DATA = Path(\"data\")\n",
    "train_df = load_emotion_txt(DATA / \"train.txt\")\n",
    "val_df   = load_emotion_txt(DATA / \"val.txt\")\n",
    "test_df  = load_emotion_txt(DATA / \"test.txt\")\n",
    "full_train = pd.concat([train_df, val_df], ignore_index=True)"
   ]
  },
  {
   "cell_type": "code",
   "execution_count": 12,
   "id": "6667a66c",
   "metadata": {},
   "outputs": [],
   "source": [
    "detector = EmotionDetector()\n",
    "detector.fit(full_train)"
   ]
  },
  {
   "cell_type": "code",
   "execution_count": 13,
   "id": "7ed89d44",
   "metadata": {},
   "outputs": [
    {
     "name": "stdout",
     "output_type": "stream",
     "text": [
      "\n",
      "Accuracy: 0.873\n",
      "\n",
      "Classification Report:\n",
      "               precision    recall  f1-score   support\n",
      "\n",
      "       anger       0.88      0.83      0.86       275\n",
      "        fear       0.88      0.80      0.84       224\n",
      "         joy       0.85      0.96      0.90       695\n",
      "        love       0.81      0.64      0.72       159\n",
      "     sadness       0.91      0.92      0.91       581\n",
      "    surprise       0.85      0.52      0.64        66\n",
      "\n",
      "    accuracy                           0.87      2000\n",
      "   macro avg       0.86      0.78      0.81      2000\n",
      "weighted avg       0.87      0.87      0.87      2000\n",
      "\n"
     ]
    }
   ],
   "source": [
    "detector.evaluate(test_df)\n"
   ]
  },
  {
   "cell_type": "code",
   "execution_count": 14,
   "id": "a091d32e",
   "metadata": {},
   "outputs": [
    {
     "name": "stdout",
     "output_type": "stream",
     "text": [
      "I'm so happy today!  ->  joy (0.858)\n",
      "I am feeling low  ->  sadness (0.974)\n"
     ]
    }
   ],
   "source": [
    "for s in [\"I'm so happy today!\", \"I am feeling low\"]:\n",
    "    lab, conf = detector.predict(s)\n",
    "    print(f\"{s}  ->  {lab} ({conf})\")\n"
   ]
  }
 ],
 "metadata": {
  "kernelspec": {
   "display_name": "Python 3 (ipykernel)",
   "language": "python",
   "name": "python3"
  },
  "language_info": {
   "codemirror_mode": {
    "name": "ipython",
    "version": 3
   },
   "file_extension": ".py",
   "mimetype": "text/x-python",
   "name": "python",
   "nbconvert_exporter": "python",
   "pygments_lexer": "ipython3",
   "version": "3.12.4"
  }
 },
 "nbformat": 4,
 "nbformat_minor": 5
}
