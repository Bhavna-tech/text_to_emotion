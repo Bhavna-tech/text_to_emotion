{
 "cells": [
  {
   "cell_type": "code",
   "execution_count": null,
   "id": "6f447791",
   "metadata": {},
   "outputs": [],
   "source": [
    "import sys\n",
    "from pathlib import Path\n",
    "sys.path.append(str(Path().resolve().parent / \"src\"))\n",
    "\n",
    "from data_utils import load_emotion_txt, normalise\n",
    "from model import EmotionDetector\n"
   ]
  },
  {
   "cell_type": "code",
   "execution_count": null,
   "id": "003a78e0",
   "metadata": {},
   "outputs": [
    {
     "ename": "ModuleNotFoundError",
     "evalue": "No module named 'src'",
     "output_type": "error",
     "traceback": [
      "\u001b[1;31m---------------------------------------------------------------------------\u001b[0m",
      "\u001b[1;31mModuleNotFoundError\u001b[0m                       Traceback (most recent call last)",
      "Cell \u001b[1;32mIn[2], line 2\u001b[0m\n\u001b[0;32m      1\u001b[0m \u001b[38;5;28;01mfrom\u001b[39;00m \u001b[38;5;21;01mpathlib\u001b[39;00m \u001b[38;5;28;01mimport\u001b[39;00m Path\n\u001b[1;32m----> 2\u001b[0m \u001b[38;5;28;01mfrom\u001b[39;00m \u001b[38;5;21;01msrc\u001b[39;00m\u001b[38;5;21;01m.\u001b[39;00m\u001b[38;5;21;01mdata_utils\u001b[39;00m \u001b[38;5;28;01mimport\u001b[39;00m load_emotion_txt, normalise\n\u001b[0;32m      3\u001b[0m \u001b[38;5;28;01mfrom\u001b[39;00m \u001b[38;5;21;01msrc\u001b[39;00m\u001b[38;5;21;01m.\u001b[39;00m\u001b[38;5;21;01mmodel\u001b[39;00m \u001b[38;5;28;01mimport\u001b[39;00m EmotionDetector\n",
      "\u001b[1;31mModuleNotFoundError\u001b[0m: No module named 'src'"
     ]
    }
   ],
   "source": [
    "# from pathlib import Path\n",
    "# from src.data_utils import load_emotion_txt, normalise\n",
    "# from src.model import EmotionDetector"
   ]
  },
  {
   "cell_type": "code",
   "execution_count": null,
   "id": "6667a66c",
   "metadata": {},
   "outputs": [],
   "source": [
    "DATA = Path(\"data\")\n",
    "train_df = load_emotion_txt(DATA / \"train.txt\")\n",
    "val_df   = load_emotion_txt(DATA / \"val.txt\")\n",
    "test_df  = load_emotion_txt(DATA / \"test.txt\")"
   ]
  },
  {
   "cell_type": "code",
   "execution_count": null,
   "id": "7ed89d44",
   "metadata": {},
   "outputs": [],
   "source": [
    "full_train = train_df.append(val_df, ignore_index=True)\n",
    "full_train[\"Clean\"] = full_train[\"Text\"].apply(normalise)\n",
    "test_df[\"Clean\"]    = test_df[\"Text\"].apply(normalise)\n"
   ]
  },
  {
   "cell_type": "code",
   "execution_count": null,
   "id": "a091d32e",
   "metadata": {},
   "outputs": [],
   "source": [
    "detector = EmotionDetector()\n",
    "detector.fit(full_train[\"Clean\"], full_train[\"Emotion\"])"
   ]
  },
  {
   "cell_type": "code",
   "execution_count": null,
   "id": "a77490c6",
   "metadata": {},
   "outputs": [],
   "source": [
    "print(detector.evaluate(test_df[\"Clean\"], test_df[\"Emotion\"]))"
   ]
  },
  {
   "cell_type": "code",
   "execution_count": null,
   "id": "72a70d9c",
   "metadata": {},
   "outputs": [],
   "source": [
    "detector.save(Path(\"artifacts\"))"
   ]
  },
  {
   "cell_type": "code",
   "execution_count": null,
   "id": "a6b06b0e",
   "metadata": {},
   "outputs": [],
   "source": []
  }
 ],
 "metadata": {
  "kernelspec": {
   "display_name": "Python 3 (ipykernel)",
   "language": "python",
   "name": "python3"
  },
  "language_info": {
   "codemirror_mode": {
    "name": "ipython",
    "version": 3
   },
   "file_extension": ".py",
   "mimetype": "text/x-python",
   "name": "python",
   "nbconvert_exporter": "python",
   "pygments_lexer": "ipython3",
   "version": "3.12.4"
  }
 },
 "nbformat": 4,
 "nbformat_minor": 5
}
